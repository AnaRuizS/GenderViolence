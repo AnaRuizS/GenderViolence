{
 "cells": [
  {
   "cell_type": "code",
   "execution_count": 90,
   "metadata": {},
   "outputs": [],
   "source": [
    "import nltk\n",
    "import csv\n",
    "import pandas as pd\n",
    "import numpy\n",
    "from nltk.corpus import stopwords\n",
    "from nltk import word_tokenize"
   ]
  },
  {
   "cell_type": "markdown",
   "metadata": {},
   "source": [
    "## Loading data"
   ]
  },
  {
   "cell_type": "code",
   "execution_count": 30,
   "metadata": {},
   "outputs": [],
   "source": [
    "tyga=pd.read_csv('data/tyga_lyrics2.csv')"
   ]
  },
  {
   "cell_type": "code",
   "execution_count": 125,
   "metadata": {},
   "outputs": [
    {
     "data": {
      "text/html": [
       "<div>\n",
       "<style scoped>\n",
       "    .dataframe tbody tr th:only-of-type {\n",
       "        vertical-align: middle;\n",
       "    }\n",
       "\n",
       "    .dataframe tbody tr th {\n",
       "        vertical-align: top;\n",
       "    }\n",
       "\n",
       "    .dataframe thead th {\n",
       "        text-align: right;\n",
       "    }\n",
       "</style>\n",
       "<table border=\"1\" class=\"dataframe\">\n",
       "  <thead>\n",
       "    <tr style=\"text-align: right;\">\n",
       "      <th></th>\n",
       "      <th>song</th>\n",
       "      <th>link</th>\n",
       "      <th>lyrics</th>\n",
       "      <th>lyrics_cleaned</th>\n",
       "    </tr>\n",
       "  </thead>\n",
       "  <tbody>\n",
       "    <tr>\n",
       "      <th>0</th>\n",
       "      <td>09 Until</td>\n",
       "      <td>https://www.famousfix.com/topic/tyga-09-until</td>\n",
       "      <td>\\n\\t\\t\\t\\t Dial up seven digits Car stripper, ...</td>\n",
       "      <td>dial seven digits car stripper trife livin sho...</td>\n",
       "    </tr>\n",
       "    <tr>\n",
       "      <th>1</th>\n",
       "      <td>187</td>\n",
       "      <td>https://www.famousfix.com/topic/tyga-187-song</td>\n",
       "      <td>\\n\\t\\t\\t\\t [Verse 1: Tyga]  Let's play black c...</td>\n",
       "      <td>verse tyga let's play black car black audemar ...</td>\n",
       "    </tr>\n",
       "    <tr>\n",
       "      <th>2</th>\n",
       "      <td>2 am</td>\n",
       "      <td>https://www.famousfix.com/topic/tyga-2-am</td>\n",
       "      <td>\\n\\t\\t\\t\\t [Intro/Chorus: repeat 2X] It's 2 AM...</td>\n",
       "      <td>introchorus repeat 2x mornin pressin alarm str...</td>\n",
       "    </tr>\n",
       "    <tr>\n",
       "      <th>3</th>\n",
       "      <td>4 My Dawgs</td>\n",
       "      <td>https://www.famousfix.com/topic/tyga-4-my-dawgs</td>\n",
       "      <td>\\n\\t\\t\\t\\t Cry little sister Thou shall not fa...</td>\n",
       "      <td>cry little sister thou shall fall come come br...</td>\n",
       "    </tr>\n",
       "    <tr>\n",
       "      <th>4</th>\n",
       "      <td>40 Mill</td>\n",
       "      <td>https://www.famousfix.com/topic/tyga-40-mill</td>\n",
       "      <td>\\n \\nI don't wanna be famous, I just wanna be ...</td>\n",
       "      <td>wanna famous wanna rich 40 mil acres makeup bi...</td>\n",
       "    </tr>\n",
       "  </tbody>\n",
       "</table>\n",
       "</div>"
      ],
      "text/plain": [
       "          song                                             link  \\\n",
       "0     09 Until    https://www.famousfix.com/topic/tyga-09-until   \n",
       "1          187    https://www.famousfix.com/topic/tyga-187-song   \n",
       "2         2 am        https://www.famousfix.com/topic/tyga-2-am   \n",
       "3   4 My Dawgs  https://www.famousfix.com/topic/tyga-4-my-dawgs   \n",
       "4      40 Mill     https://www.famousfix.com/topic/tyga-40-mill   \n",
       "\n",
       "                                              lyrics  \\\n",
       "0  \\n\\t\\t\\t\\t Dial up seven digits Car stripper, ...   \n",
       "1  \\n\\t\\t\\t\\t [Verse 1: Tyga]  Let's play black c...   \n",
       "2  \\n\\t\\t\\t\\t [Intro/Chorus: repeat 2X] It's 2 AM...   \n",
       "3  \\n\\t\\t\\t\\t Cry little sister Thou shall not fa...   \n",
       "4  \\n \\nI don't wanna be famous, I just wanna be ...   \n",
       "\n",
       "                                      lyrics_cleaned  \n",
       "0  dial seven digits car stripper trife livin sho...  \n",
       "1  verse tyga let's play black car black audemar ...  \n",
       "2  introchorus repeat 2x mornin pressin alarm str...  \n",
       "3  cry little sister thou shall fall come come br...  \n",
       "4  wanna famous wanna rich 40 mil acres makeup bi...  "
      ]
     },
     "execution_count": 125,
     "metadata": {},
     "output_type": "execute_result"
    }
   ],
   "source": [
    "tyga.head()"
   ]
  },
  {
   "cell_type": "code",
   "execution_count": 32,
   "metadata": {},
   "outputs": [
    {
     "data": {
      "text/plain": [
       "358"
      ]
     },
     "execution_count": 32,
     "metadata": {},
     "output_type": "execute_result"
    }
   ],
   "source": [
    "len(tyga)"
   ]
  },
  {
   "cell_type": "markdown",
   "metadata": {},
   "source": [
    "## Cleaning (stopwords and not alphanumeric characters)"
   ]
  },
  {
   "cell_type": "code",
   "execution_count": 57,
   "metadata": {},
   "outputs": [],
   "source": [
    "characters=[]\n",
    "for lyric in tyga.lyrics:\n",
    "    for c in lyric:\n",
    "        if c.isalnum()==False and c!='*' and c!=\"'\" and c!=\" \":\n",
    "            characters.append(c)"
   ]
  },
  {
   "cell_type": "code",
   "execution_count": null,
   "metadata": {},
   "outputs": [],
   "source": [
    "# review in more detail to exclude more words-------------"
   ]
  },
  {
   "cell_type": "code",
   "execution_count": 120,
   "metadata": {},
   "outputs": [],
   "source": [
    "exclude=['he', 'she']"
   ]
  },
  {
   "cell_type": "code",
   "execution_count": null,
   "metadata": {},
   "outputs": [],
   "source": [
    "#---------------------------------------------------------"
   ]
  },
  {
   "cell_type": "code",
   "execution_count": 66,
   "metadata": {},
   "outputs": [],
   "source": [
    "stop_words= stopwords.words('english')"
   ]
  },
  {
   "cell_type": "code",
   "execution_count": 121,
   "metadata": {},
   "outputs": [],
   "source": [
    "stop_words=[w for w in stop_words if w not in exclude ]"
   ]
  },
  {
   "cell_type": "code",
   "execution_count": 123,
   "metadata": {},
   "outputs": [],
   "source": [
    "def clean(s):\n",
    "    r = s.lower().strip()\n",
    "    for c in characters:\n",
    "        r = r.replace(c, '')\n",
    "    rs = [w for w in r.split() if w not in stop_words and len(w) > 1]\n",
    "    r = ' '.join(rs)\n",
    "    return r"
   ]
  },
  {
   "cell_type": "code",
   "execution_count": 124,
   "metadata": {},
   "outputs": [],
   "source": [
    "tyga['lyrics_cleaned']=tyga['lyrics'].apply(lambda x: clean(x))"
   ]
  },
  {
   "cell_type": "code",
   "execution_count": 126,
   "metadata": {},
   "outputs": [],
   "source": [
    "tyga.to_csv('data/tyga_lyrics_cleaned.csv', index=False)"
   ]
  },
  {
   "cell_type": "code",
   "execution_count": 131,
   "metadata": {},
   "outputs": [
    {
     "name": "stdout",
     "output_type": "stream",
     "text": [
      "['faded']\n",
      "96\n",
      "['faded', 'ftlil', 'wayne', '326']\n",
      "97\n",
      "['faded', 'remix']\n",
      "98\n"
     ]
    }
   ],
   "source": [
    "for i in range (0, len(tyga)):\n",
    "    s=tyga.song[i]\n",
    "    s=s.lower().split()\n",
    "    for w in s:\n",
    "        if w==\"faded\":\n",
    "            print(s)\n",
    "            print(i)"
   ]
  },
  {
   "cell_type": "code",
   "execution_count": null,
   "metadata": {},
   "outputs": [],
   "source": []
  }
 ],
 "metadata": {
  "kernelspec": {
   "display_name": "Python 3",
   "language": "python",
   "name": "python3"
  },
  "language_info": {
   "codemirror_mode": {
    "name": "ipython",
    "version": 3
   },
   "file_extension": ".py",
   "mimetype": "text/x-python",
   "name": "python",
   "nbconvert_exporter": "python",
   "pygments_lexer": "ipython3",
   "version": "3.5.2"
  }
 },
 "nbformat": 4,
 "nbformat_minor": 2
}
