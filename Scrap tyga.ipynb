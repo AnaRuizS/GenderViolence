{
 "cells": [
  {
   "cell_type": "code",
   "execution_count": 63,
   "metadata": {},
   "outputs": [],
   "source": [
    "import csv\n",
    "import time\n",
    "import pandas as pd\n",
    "import bs4 as bs\n",
    "import urllib\n",
    "import numpy as np"
   ]
  },
  {
   "cell_type": "markdown",
   "metadata": {},
   "source": [
    "## Reading and displaying information"
   ]
  },
  {
   "cell_type": "code",
   "execution_count": 3,
   "metadata": {},
   "outputs": [],
   "source": [
    "links=pd.read_csv('data/tyga.csv')"
   ]
  },
  {
   "cell_type": "code",
   "execution_count": 44,
   "metadata": {},
   "outputs": [],
   "source": [
    "links['link']=links['link'].apply(lambda x: x.replace(\" \", \"\"))"
   ]
  },
  {
   "cell_type": "code",
   "execution_count": 28,
   "metadata": {},
   "outputs": [],
   "source": [
    "# CLEANING STEP\n",
    "# remove extra quotes of original file\n",
    "#links['link']= links['link'].apply(lambda x: x.replace('\"',\"\"))\n",
    "# remove extra quotes of song names in original file\n",
    "#links['song']= links['song'].apply(lambda x: x.replace('\"',\"\"))"
   ]
  },
  {
   "cell_type": "code",
   "execution_count": 51,
   "metadata": {},
   "outputs": [],
   "source": [
    "links['lyrics']=\"\""
   ]
  },
  {
   "cell_type": "code",
   "execution_count": 179,
   "metadata": {},
   "outputs": [
    {
     "data": {
      "text/html": [
       "<div>\n",
       "<style scoped>\n",
       "    .dataframe tbody tr th:only-of-type {\n",
       "        vertical-align: middle;\n",
       "    }\n",
       "\n",
       "    .dataframe tbody tr th {\n",
       "        vertical-align: top;\n",
       "    }\n",
       "\n",
       "    .dataframe thead th {\n",
       "        text-align: right;\n",
       "    }\n",
       "</style>\n",
       "<table border=\"1\" class=\"dataframe\">\n",
       "  <thead>\n",
       "    <tr style=\"text-align: right;\">\n",
       "      <th></th>\n",
       "      <th>Unnamed: 0</th>\n",
       "      <th>song</th>\n",
       "      <th>link</th>\n",
       "      <th>lyrics</th>\n",
       "    </tr>\n",
       "  </thead>\n",
       "  <tbody>\n",
       "    <tr>\n",
       "      <th>0</th>\n",
       "      <td>0</td>\n",
       "      <td>09 Until</td>\n",
       "      <td>https://www.famousfix.com/topic/tyga-09-until</td>\n",
       "      <td>\\n\\t\\t\\t\\t Dial up seven digits Car stripper, ...</td>\n",
       "    </tr>\n",
       "    <tr>\n",
       "      <th>1</th>\n",
       "      <td>1</td>\n",
       "      <td>187</td>\n",
       "      <td>https://www.famousfix.com/topic/tyga-187-song</td>\n",
       "      <td>\\n\\t\\t\\t\\t [Verse 1: Tyga]  Let's play black c...</td>\n",
       "    </tr>\n",
       "    <tr>\n",
       "      <th>2</th>\n",
       "      <td>2</td>\n",
       "      <td>2 am</td>\n",
       "      <td>https://www.famousfix.com/topic/tyga-2-am</td>\n",
       "      <td>\\n\\t\\t\\t\\t [Intro/Chorus: repeat 2X] It's 2 AM...</td>\n",
       "    </tr>\n",
       "    <tr>\n",
       "      <th>3</th>\n",
       "      <td>3</td>\n",
       "      <td>2 Step</td>\n",
       "      <td>https://www.famousfix.com/topic/tyga-2-step</td>\n",
       "      <td></td>\n",
       "    </tr>\n",
       "    <tr>\n",
       "      <th>4</th>\n",
       "      <td>4</td>\n",
       "      <td>4 Ever</td>\n",
       "      <td>https://www.famousfix.com/topic/tyga-4-ever</td>\n",
       "      <td></td>\n",
       "    </tr>\n",
       "    <tr>\n",
       "      <th>5</th>\n",
       "      <td>5</td>\n",
       "      <td>4 My Dawgs</td>\n",
       "      <td>https://www.famousfix.com/topic/tyga-4-my-dawgs</td>\n",
       "      <td>\\n\\t\\t\\t\\t Cry little sister Thou shall not fa...</td>\n",
       "    </tr>\n",
       "    <tr>\n",
       "      <th>6</th>\n",
       "      <td>6</td>\n",
       "      <td>40 Mill</td>\n",
       "      <td>https://www.famousfix.com/topic/tyga-40-mill</td>\n",
       "      <td>\\n \\nI don't wanna be famous, I just wanna be ...</td>\n",
       "    </tr>\n",
       "    <tr>\n",
       "      <th>7</th>\n",
       "      <td>7</td>\n",
       "      <td>500 Degrees</td>\n",
       "      <td>https://www.famousfix.com/topic/tyga-500-degrees</td>\n",
       "      <td>\\n\\t\\t\\t\\t New year, new year New money, new m...</td>\n",
       "    </tr>\n",
       "    <tr>\n",
       "      <th>8</th>\n",
       "      <td>8</td>\n",
       "      <td>95 Like Dat</td>\n",
       "      <td>https://www.famousfix.com/topic/tyga-95-like-dat</td>\n",
       "      <td>\\n \\n95 like that, like that \\n95 like that, l...</td>\n",
       "    </tr>\n",
       "    <tr>\n",
       "      <th>9</th>\n",
       "      <td>9</td>\n",
       "      <td>A Beat That Knock</td>\n",
       "      <td>https://www.famousfix.com/topic/tyga-a-beat-th...</td>\n",
       "      <td></td>\n",
       "    </tr>\n",
       "    <tr>\n",
       "      <th>10</th>\n",
       "      <td>10</td>\n",
       "      <td>A Million Lights</td>\n",
       "      <td>https://www.famousfix.com/topic/tyga-a-million...</td>\n",
       "      <td>\\n\\t\\t\\t\\t [Chorus] A million lights and a kic...</td>\n",
       "    </tr>\n",
       "    <tr>\n",
       "      <th>11</th>\n",
       "      <td>11</td>\n",
       "      <td>A Voice 4Rm Heaven, Pt. 1: 2Pac</td>\n",
       "      <td>https://www.famousfix.com/topic/tyga-a-voice-4...</td>\n",
       "      <td>\\n\\t\\t\\t\\t I pray to God every night. I still ...</td>\n",
       "    </tr>\n",
       "    <tr>\n",
       "      <th>12</th>\n",
       "      <td>12</td>\n",
       "      <td>AIM</td>\n",
       "      <td>https://www.famousfix.com/topic/tyga-aim</td>\n",
       "      <td>\\n\\t\\t\\t\\t She' don't know my name  She just k...</td>\n",
       "    </tr>\n",
       "    <tr>\n",
       "      <th>13</th>\n",
       "      <td>13</td>\n",
       "      <td>Akup</td>\n",
       "      <td>https://www.famousfix.com/topic/tyga-akup</td>\n",
       "      <td>\\n\\t\\t\\t\\t Waste money before I waste my time,...</td>\n",
       "    </tr>\n",
       "    <tr>\n",
       "      <th>14</th>\n",
       "      <td>14</td>\n",
       "      <td>All Gold Everything</td>\n",
       "      <td>https://www.famousfix.com/topic/tyga-all-gold-...</td>\n",
       "      <td>\\n \\n187 \\n \\n [Hook:] \\nGold all in my chain,...</td>\n",
       "    </tr>\n",
       "  </tbody>\n",
       "</table>\n",
       "</div>"
      ],
      "text/plain": [
       "    Unnamed: 0                             song  \\\n",
       "0            0                         09 Until   \n",
       "1            1                              187   \n",
       "2            2                             2 am   \n",
       "3            3                           2 Step   \n",
       "4            4                           4 Ever   \n",
       "5            5                       4 My Dawgs   \n",
       "6            6                          40 Mill   \n",
       "7            7                      500 Degrees   \n",
       "8            8                      95 Like Dat   \n",
       "9            9                A Beat That Knock   \n",
       "10          10                 A Million Lights   \n",
       "11          11  A Voice 4Rm Heaven, Pt. 1: 2Pac   \n",
       "12          12                              AIM   \n",
       "13          13                             Akup   \n",
       "14          14              All Gold Everything   \n",
       "\n",
       "                                                 link  \\\n",
       "0       https://www.famousfix.com/topic/tyga-09-until   \n",
       "1       https://www.famousfix.com/topic/tyga-187-song   \n",
       "2           https://www.famousfix.com/topic/tyga-2-am   \n",
       "3         https://www.famousfix.com/topic/tyga-2-step   \n",
       "4         https://www.famousfix.com/topic/tyga-4-ever   \n",
       "5     https://www.famousfix.com/topic/tyga-4-my-dawgs   \n",
       "6        https://www.famousfix.com/topic/tyga-40-mill   \n",
       "7    https://www.famousfix.com/topic/tyga-500-degrees   \n",
       "8    https://www.famousfix.com/topic/tyga-95-like-dat   \n",
       "9   https://www.famousfix.com/topic/tyga-a-beat-th...   \n",
       "10  https://www.famousfix.com/topic/tyga-a-million...   \n",
       "11  https://www.famousfix.com/topic/tyga-a-voice-4...   \n",
       "12           https://www.famousfix.com/topic/tyga-aim   \n",
       "13          https://www.famousfix.com/topic/tyga-akup   \n",
       "14  https://www.famousfix.com/topic/tyga-all-gold-...   \n",
       "\n",
       "                                               lyrics  \n",
       "0   \\n\\t\\t\\t\\t Dial up seven digits Car stripper, ...  \n",
       "1   \\n\\t\\t\\t\\t [Verse 1: Tyga]  Let's play black c...  \n",
       "2   \\n\\t\\t\\t\\t [Intro/Chorus: repeat 2X] It's 2 AM...  \n",
       "3                                                      \n",
       "4                                                      \n",
       "5   \\n\\t\\t\\t\\t Cry little sister Thou shall not fa...  \n",
       "6   \\n \\nI don't wanna be famous, I just wanna be ...  \n",
       "7   \\n\\t\\t\\t\\t New year, new year New money, new m...  \n",
       "8   \\n \\n95 like that, like that \\n95 like that, l...  \n",
       "9                                                      \n",
       "10  \\n\\t\\t\\t\\t [Chorus] A million lights and a kic...  \n",
       "11  \\n\\t\\t\\t\\t I pray to God every night. I still ...  \n",
       "12  \\n\\t\\t\\t\\t She' don't know my name  She just k...  \n",
       "13  \\n\\t\\t\\t\\t Waste money before I waste my time,...  \n",
       "14  \\n \\n187 \\n \\n [Hook:] \\nGold all in my chain,...  "
      ]
     },
     "execution_count": 179,
     "metadata": {},
     "output_type": "execute_result"
    }
   ],
   "source": [
    "links.head(15)"
   ]
  },
  {
   "cell_type": "markdown",
   "metadata": {},
   "source": [
    "### Downloading all the non empty lyrics"
   ]
  },
  {
   "cell_type": "code",
   "execution_count": 94,
   "metadata": {},
   "outputs": [],
   "source": [
    "for i in range(3, len(links)):\n",
    "    \n",
    "    source = urllib.request.urlopen(links.link[i]).read()\n",
    "    soup=bs.BeautifulSoup(source, 'html5lib')\n",
    "    \n",
    "    container = soup.findAll('div',attrs={\"class\":\"cbody\"})\n",
    "    lyrics=container[0].find('p')\n",
    "    \n",
    "    if lyrics!=None:\n",
    "        links.iloc[i, links.columns.get_loc('lyrics')] = lyrics.get_text(separator=' ')\n",
    "    \n",
    "    time.sleep(np.random.uniform(1.0,3.0))"
   ]
  },
  {
   "cell_type": "markdown",
   "metadata": {},
   "source": [
    "### Find all the empty lyrics"
   ]
  },
  {
   "cell_type": "code",
   "execution_count": 106,
   "metadata": {},
   "outputs": [],
   "source": [
    "#location of empty lyrics\n",
    "empty=np.where(links.applymap(lambda x: x == ''))[0]"
   ]
  },
  {
   "cell_type": "code",
   "execution_count": 173,
   "metadata": {},
   "outputs": [
    {
     "name": "stdout",
     "output_type": "stream",
     "text": [
      "[  3   4   6   8   9  14  15  27  28  29  31  45  60  67  68  70  73  75\n",
      "  90  99 100 108 120 121 129 130 135 147 152 153 159 172 204 220 235 236\n",
      " 267 277 284 293 299 308 312 313 318 320 340 341 342 343 344 352 357 370\n",
      " 381 382 389 390 401 402 403]\n"
     ]
    }
   ],
   "source": [
    "print(empty)"
   ]
  },
  {
   "cell_type": "code",
   "execution_count": 109,
   "metadata": {},
   "outputs": [],
   "source": [
    "lst=[]\n",
    "for i in range (0, len(empty)):\n",
    "    lst.append(links.iloc[empty[i]]['song'])"
   ]
  },
  {
   "cell_type": "markdown",
   "metadata": {},
   "source": [
    "#### Fixing links to download from another website (AZlyrics)"
   ]
  },
  {
   "cell_type": "code",
   "execution_count": 121,
   "metadata": {},
   "outputs": [],
   "source": [
    "empty_song_links=[]\n",
    "for song in lst:\n",
    "    # capitalize the item and add it to regimentNamesCapitalized_f\n",
    "    s=song.replace(\" \", \"\")\n",
    "    s=s.replace(\",\", \"\")\n",
    "    s=s.replace(\".\", \"\")\n",
    "    s=s.replace(\"'\", \"\")\n",
    "    s=s.lower()\n",
    "    empty_song_links.append(\"https://www.azlyrics.com/lyrics/tyga/\"+s+\".html\")"
   ]
  },
  {
   "cell_type": "code",
   "execution_count": 180,
   "metadata": {},
   "outputs": [
    {
     "name": "stdout",
     "output_type": "stream",
     "text": [
      "5\n",
      "12\n",
      "13\n",
      "22\n",
      "26\n",
      "27\n",
      "29\n",
      "35\n",
      "39\n",
      "49\n",
      "50\n"
     ]
    }
   ],
   "source": [
    "for j in range(5, len(empty_song_links)):\n",
    "    try: # need to open with try\n",
    "        source = urllib.request.urlopen(empty_song_links[j]).read()\n",
    "    except urllib.error.HTTPError as e:\n",
    "        continue\n",
    "    \n",
    "    soup=bs.BeautifulSoup(source, 'html5lib')\n",
    "    container = soup.findAll('div', attrs={\"class\":\"col-xs-12 col-lg-8 text-center\"})\n",
    "    e=container[0].findAll('div')\n",
    "    lyrics=e[6].get_text(separator=' ')\n",
    "    \n",
    "    # save lyrics to the dataframe column\n",
    "    links.iloc[empty[j], links.columns.get_loc('lyrics')] = lyrics\n",
    "    \n",
    "    # wait random for the next download\n",
    "    time.sleep(np.random.uniform(1.0,3.0))\n",
    "    \n",
    "    print(j)"
   ]
  },
  {
   "cell_type": "code",
   "execution_count": 181,
   "metadata": {},
   "outputs": [],
   "source": [
    "#location of empty lyrics\n",
    "empty_2=np.where(links.applymap(lambda x: x == ''))[0]"
   ]
  },
  {
   "cell_type": "code",
   "execution_count": 182,
   "metadata": {},
   "outputs": [
    {
     "name": "stdout",
     "output_type": "stream",
     "text": [
      "[  3   4   9  15  27  28  29  31  45  68  70  73  75  90  99 100 108 121\n",
      " 129 130 152 159 172 204 220 235 267 277 284 299 308 312 313 318 320 340\n",
      " 341 342 352 357 370 381 382 389 390 401 402 403]\n"
     ]
    }
   ],
   "source": [
    "print(empty_2)"
   ]
  },
  {
   "cell_type": "code",
   "execution_count": 183,
   "metadata": {},
   "outputs": [],
   "source": [
    "lst_2=[]\n",
    "for i in range (0, len(empty_2)):\n",
    "    lst_2.append(links.iloc[empty_2[i]]['song'])"
   ]
  },
  {
   "cell_type": "code",
   "execution_count": 185,
   "metadata": {},
   "outputs": [
    {
     "name": "stdout",
     "output_type": "stream",
     "text": [
      "[' 2 Step', ' 4 Ever', ' A Beat That Knock', ' All Gold Everything Freestyle', ' Beat That Mouf Up', ' Bed Rock', ' Bed Rock Lyrics', ' Big Wings', ' Bonus Track', ' Coco Young Money', ' Collide', ' Commas 2015', ' Cry Out', ' Do What I Like', ' Drake We Made It', ' Dream & Nightmares', ' Every Girl in the World', ' Fight', ' Fresher Than Ever', ' Fuck Da Bulls (Featuring Birdman)', ' Grindin YM', ' Heartless', ' Hotline Wayne', ' Jump', ' Let Me Be Ya Outside.....', ' Love T-Raww', ' On Da Grind Freestyle', ' Pass That Dutch', ' Pop That', ' Remeber Me', ' Run', 'Senile ft. Tyga, Nicki Minaj, Lil Wayne', ' Sh*t 2015', ' Shoot Like Me', ' Sick And Tired Of It', ' Swagger (feat. Obj)', ' Swagger Like Wentz', ' Sweeterman', ' Test Tube Baby', ' These Niggaz Be Killin Me', ' Tyga Outro', \" We'll Kill Ya\", \" We'll Kill Ya Remix\", \" What's Happenin'\", ' Whats My Name', ' You Already Know', ' You Guessed It', ' Young & Gettin It']\n"
     ]
    }
   ],
   "source": [
    "print (lst_2)"
   ]
  },
  {
   "cell_type": "code",
   "execution_count": null,
   "metadata": {},
   "outputs": [],
   "source": [
    "# Save all lyrics to csv file"
   ]
  },
  {
   "cell_type": "code",
   "execution_count": 186,
   "metadata": {},
   "outputs": [],
   "source": [
    "links.to_csv('data/tyga_lyrics.csv')"
   ]
  }
 ],
 "metadata": {
  "kernelspec": {
   "display_name": "Python 3",
   "language": "python",
   "name": "python3"
  },
  "language_info": {
   "codemirror_mode": {
    "name": "ipython",
    "version": 3
   },
   "file_extension": ".py",
   "mimetype": "text/x-python",
   "name": "python",
   "nbconvert_exporter": "python",
   "pygments_lexer": "ipython3",
   "version": "3.5.2"
  }
 },
 "nbformat": 4,
 "nbformat_minor": 2
}
